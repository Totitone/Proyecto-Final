{
 "cells": [
  {
   "cell_type": "markdown",
   "id": "ef2ffdf9-f890-4843-a811-ec2c49e995f3",
   "metadata": {},
   "source": [
    "# Proyecto Final"
   ]
  },
  {
   "cell_type": "markdown",
   "id": "626265b1-e1f2-41d4-b466-63e0d31f2e1a",
   "metadata": {},
   "source": [
    "## Introducción\n",
    "Este cuaderno trata sobre el uso de diversas herramientas en ciencia de datos."
   ]
  },
  {
   "cell_type": "markdown",
   "id": "bcca82c8-166d-4183-b21c-b8e2a3f56a83",
   "metadata": {},
   "source": [
    "## Lenguajes de Ciencia de Datos\r\n",
    "- Python\r\n",
    "- R\r\n",
    "- Julia\r\n",
    "- SQL\r\n"
   ]
  },
  {
   "cell_type": "markdown",
   "id": "13b2c30a-632b-4ceb-b626-97e995a02298",
   "metadata": {},
   "source": [
    "## Bibliotecas de Ciencia de Datos\r\n",
    "- Pandas\r\n",
    "- NumPy\r\n",
    "- Matplotlib\r\n",
    "- Scikit-learn\r\n",
    "- TensorFlow\r\n"
   ]
  },
  {
   "cell_type": "markdown",
   "id": "dcabd20d-c572-4a31-8757-2b2d0218fc1c",
   "metadata": {},
   "source": [
    "## Herramientas de Ciencia de Datos\r\n",
    "\r\n",
    "| Herramienta     | Propósito                        |\r\n",
    "|-----------------|----------------------------------|\r\n",
    "| Jupyter Notebook| Entorno interactivo              |\r\n",
    "| RStudio         | Desarrollo en R                  |\r\n",
    "| Apache Spark    | Procesamiento de datos a gran escala |\r\n",
    "| Tableau         | Visualización de datos           |\r\n"
   ]
  },
  {
   "cell_type": "markdown",
   "id": "8d51bebc-834a-4277-a086-38da1b27ec1a",
   "metadata": {},
   "source": [
    "## Ejemplos de Expresiones Aritméticas\r\n",
    "- Suma: \\(3 + 5 = 8\\)\r\n",
    "- Resta: \\(10 - 4 = 6\\)\r\n",
    "- Multiplicación: \\(2 \\times 3 = 6\\)\r\n",
    "- División: \\(12 \\div 4 = 3\\)\r\n"
   ]
  },
  {
   "cell_type": "code",
   "execution_count": null,
   "id": "550a2195-c54e-480c-a964-0a107b7d41b3",
   "metadata": {},
   "outputs": [],
   "source": [
    "# Multiplicación y suma\n",
    "multiplicacion = 14 * 15\n",
    "suma = 14 + 15\n",
    "print(\"Multiplicación:\", multiplicacion)\n",
    "print(\"Suma:\", suma)\n"
   ]
  },
  {
   "cell_type": "code",
   "execution_count": null,
   "id": "6c5f2cdb-532c-4481-b8a0-548a7e69dfb5",
   "metadata": {},
   "outputs": [],
   "source": [
    "# Convertir minutos en horas\n",
    "minutos = 720\n",
    "horas = minutos / 60\n",
    "print(f\"{minutos} minutos son {horas} horas\")\n"
   ]
  },
  {
   "cell_type": "code",
   "execution_count": null,
   "id": "fc91ede6-01b8-48b8-9e7b-41f7101f5173",
   "metadata": {},
   "outputs": [],
   "source": [
    "objetivos = [\"Aprender Python\", \"Usar herramientas de Ciencia de Datos\", \"Compartir el cuaderno en GitHub\"]\n",
    "for objetivo in objetivos:\n",
    "    print(objetivo)\n"
   ]
  },
  {
   "cell_type": "markdown",
   "id": "887ca1ca-93d0-4f18-a6d0-2b68967b0a59",
   "metadata": {},
   "source": [
    "**Autor:** Alonso Tejada\n"
   ]
  }
 ],
 "metadata": {
  "kernelspec": {
   "display_name": "Python 3 (ipykernel)",
   "language": "python",
   "name": "python3"
  },
  "language_info": {
   "codemirror_mode": {
    "name": "ipython",
    "version": 3
   },
   "file_extension": ".py",
   "mimetype": "text/x-python",
   "name": "python",
   "nbconvert_exporter": "python",
   "pygments_lexer": "ipython3",
   "version": "3.12.4"
  }
 },
 "nbformat": 4,
 "nbformat_minor": 5
}
